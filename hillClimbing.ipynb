{
 "cells": [
  {
   "cell_type": "code",
   "execution_count": 716,
   "metadata": {},
   "outputs": [],
   "source": [
    "import pandas as pd\n",
    "import numpy as np\n",
    "import random\n",
    "import math"
   ]
  },
  {
   "cell_type": "code",
   "execution_count": 717,
   "metadata": {},
   "outputs": [],
   "source": [
    "def adjusting(another_df):\n",
    "    data = []            \n",
    "    with open(another_df, 'r') as file:\n",
    "        for line in file:\n",
    "            line = line.strip()\n",
    "            if line.startswith(\"TOUR_SECTION\"):\n",
    "                break\n",
    "        \n",
    "        for line in file:\n",
    "            if line.startswith(\"-1\"):\n",
    "                break\n",
    "            location_index = int(line)\n",
    "            data.append(location_index)\n",
    "    data = np.array(data)\n",
    "    data = data.reshape(data.shape[0],1)\n",
    "    return data"
   ]
  },
  {
   "cell_type": "code",
   "execution_count": 718,
   "metadata": {},
   "outputs": [],
   "source": [
    "file_path1 = 'berlin52.tsp'\n",
    "delimiter = '\\s+'\n",
    "df = pd.read_csv(file_path1, sep=delimiter, header=None, skiprows=6)\n",
    "location_data = df.drop(df.index[-1]).to_numpy()\n",
    "\n",
    "file_path2 = 'berlin52.opt.tour'\n",
    "optimal_tour = adjusting(file_path2)"
   ]
  },
  {
   "cell_type": "code",
   "execution_count": 719,
   "metadata": {},
   "outputs": [],
   "source": [
    "def distance(loc1, loc2):\n",
    "    return np.sqrt((loc1[1] - loc2[1])**2 + (loc1[2] - loc2[2])**2)"
   ]
  },
  {
   "cell_type": "code",
   "execution_count": 720,
   "metadata": {},
   "outputs": [],
   "source": [
    "def bestDistance(x1, x2, y1, y2):\n",
    "    return np.sqrt((x1 - x2)**2 + (y1 - y2)**2)"
   ]
  },
  {
   "cell_type": "code",
   "execution_count": 721,
   "metadata": {},
   "outputs": [],
   "source": [
    "def initial_solution(location_data):\n",
    "    return np.random.permutation(location_data)"
   ]
  },
  {
   "cell_type": "code",
   "execution_count": 722,
   "metadata": {},
   "outputs": [],
   "source": [
    "def route_distance(route):\n",
    "    total_distance = 0\n",
    "    for i in range(len(route)):\n",
    "        distance_to_next_location = distance(route[i], route[(i + 1) % len(route)])\n",
    "        total_distance += distance_to_next_location\n",
    "    return total_distance"
   ]
  },
  {
   "cell_type": "code",
   "execution_count": 723,
   "metadata": {},
   "outputs": [],
   "source": [
    "def optimal_norm(optimal_tour, location_data):\n",
    "    optDistance = 0\n",
    "    for i in range(len(optimal_tour)):\n",
    "        current_city_index = optimal_tour[i] - 1\n",
    "        next_city_index = optimal_tour[(i + 1) % len(optimal_tour)] - 1\n",
    "    \n",
    "        current_city = location_data[current_city_index]\n",
    "        next_city = location_data[next_city_index]\n",
    "    \n",
    "        distance_to_next_optimal = bestDistance(current_city[:, 1].item(), next_city[:, 1].item(), current_city[:, 2].item(), next_city[:, 2].item())\n",
    "        optDistance += distance_to_next_optimal\n",
    "    return optDistance\n"
   ]
  },
  {
   "cell_type": "code",
   "execution_count": 724,
   "metadata": {},
   "outputs": [],
   "source": [
    "def hill_climb(location_data, max_iterations):\n",
    "    current_route = initial_solution(location_data)\n",
    "    current_distance = route_distance(current_route)\n",
    "    \n",
    "    for _ in range(max_iterations):\n",
    "        neighbor_solution = current_route.copy()\n",
    "        idx1, idx2 = random.sample(range(len(location_data)), 2)\n",
    "        temp = neighbor_solution[idx1].copy()\n",
    "        neighbor_solution[idx1] = neighbor_solution[idx2]\n",
    "        neighbor_solution[idx2] = temp\n",
    "        neighbor_distance = route_distance(neighbor_solution)\n",
    "        \n",
    "        if neighbor_distance < current_distance:\n",
    "            current_route = neighbor_solution\n",
    "            current_distance = neighbor_distance\n",
    "    \n",
    "    return current_route, current_distance"
   ]
  },
  {
   "cell_type": "code",
   "execution_count": 725,
   "metadata": {},
   "outputs": [],
   "source": [
    "def relativeError(opt, best):\n",
    "    return abs((opt-best))/opt * 100"
   ]
  },
  {
   "cell_type": "code",
   "execution_count": 726,
   "metadata": {},
   "outputs": [
    {
     "name": "stdout",
     "output_type": "stream",
     "text": [
      "Iteration 1's current best distance: 20554.8\n",
      "Iteration 2's current best distance: 20554.8\n",
      "Iteration 3's current best distance: 20554.8\n",
      "Iteration 4's current best distance: 19647.84\n",
      "Iteration 5's current best distance: 19647.84\n",
      "Iteration 6's current best distance: 19647.84\n",
      "Iteration 7's current best distance: 19647.84\n",
      "Iteration 8's current best distance: 19647.84\n",
      "Iteration 9's current best distance: 19647.84\n",
      "Iteration 10's current best distance: 19647.84\n",
      "Iteration 11's current best distance: 19647.84\n",
      "Iteration 12's current best distance: 19647.84\n",
      "Iteration 13's current best distance: 19647.84\n",
      "Iteration 14's current best distance: 19647.84\n",
      "Iteration 15's current best distance: 19647.84\n",
      "Iteration 16's current best distance: 19647.84\n",
      "Iteration 17's current best distance: 19647.84\n",
      "Iteration 18's current best distance: 19647.84\n",
      "Iteration 19's current best distance: 19647.84\n",
      "Iteration 20's current best distance: 19647.84\n",
      "Iteration 21's current best distance: 19647.84\n",
      "Iteration 22's current best distance: 19647.84\n",
      "Iteration 23's current best distance: 19647.84\n",
      "Iteration 24's current best distance: 18029.7\n",
      "Iteration 25's current best distance: 18029.7\n",
      "Iteration 26's current best distance: 18029.7\n",
      "Iteration 27's current best distance: 18029.7\n",
      "Iteration 28's current best distance: 18029.7\n",
      "Iteration 29's current best distance: 18029.7\n",
      "Iteration 30's current best distance: 18029.7\n",
      "Iteration 31's current best distance: 18029.7\n",
      "Iteration 32's current best distance: 18029.7\n",
      "Iteration 33's current best distance: 18029.7\n",
      "Iteration 34's current best distance: 18029.7\n",
      "Iteration 35's current best distance: 18029.7\n",
      "Iteration 36's current best distance: 18029.7\n",
      "Iteration 37's current best distance: 18029.7\n",
      "Iteration 38's current best distance: 18029.7\n",
      "Iteration 39's current best distance: 18029.7\n",
      "Iteration 40's current best distance: 18029.7\n",
      "Iteration 41's current best distance: 18029.7\n",
      "Iteration 42's current best distance: 18029.7\n",
      "Iteration 43's current best distance: 18029.7\n",
      "Iteration 44's current best distance: 18029.7\n",
      "Iteration 45's current best distance: 18029.7\n",
      "Iteration 46's current best distance: 18029.7\n",
      "Iteration 47's current best distance: 18029.7\n",
      "Iteration 48's current best distance: 18029.7\n",
      "Iteration 49's current best distance: 18029.7\n",
      "Iteration 50's current best distance: 18029.7\n",
      "Iteration 51's current best distance: 18029.7\n",
      "Iteration 52's current best distance: 18029.7\n",
      "Iteration 53's current best distance: 18029.7\n",
      "Iteration 54's current best distance: 18029.7\n",
      "Iteration 55's current best distance: 18029.7\n",
      "Iteration 56's current best distance: 18029.7\n",
      "Iteration 57's current best distance: 18029.7\n",
      "Iteration 58's current best distance: 18029.7\n",
      "Iteration 59's current best distance: 18029.7\n",
      "Iteration 60's current best distance: 18029.7\n",
      "Iteration 61's current best distance: 18029.7\n",
      "Iteration 62's current best distance: 16864.42\n",
      "Iteration 63's current best distance: 16864.42\n",
      "Iteration 64's current best distance: 16864.42\n",
      "Iteration 65's current best distance: 16864.42\n",
      "Iteration 66's current best distance: 16864.42\n",
      "Iteration 67's current best distance: 16864.42\n",
      "Iteration 68's current best distance: 16864.42\n",
      "Iteration 69's current best distance: 16864.42\n",
      "Iteration 70's current best distance: 16864.42\n",
      "Iteration 71's current best distance: 16864.42\n",
      "Iteration 72's current best distance: 16864.42\n",
      "Iteration 73's current best distance: 16864.42\n",
      "Iteration 74's current best distance: 16864.42\n",
      "Iteration 75's current best distance: 16864.42\n",
      "Iteration 76's current best distance: 16864.42\n",
      "Iteration 77's current best distance: 16864.42\n",
      "Iteration 78's current best distance: 16864.42\n",
      "Iteration 79's current best distance: 16864.42\n",
      "Iteration 80's current best distance: 16864.42\n",
      "Iteration 81's current best distance: 16864.42\n",
      "Iteration 82's current best distance: 16864.42\n",
      "Iteration 83's current best distance: 16864.42\n",
      "Iteration 84's current best distance: 16864.42\n",
      "Iteration 85's current best distance: 16864.42\n",
      "Iteration 86's current best distance: 16864.42\n",
      "Iteration 87's current best distance: 16864.42\n",
      "Iteration 88's current best distance: 16864.42\n",
      "Iteration 89's current best distance: 16864.42\n",
      "Iteration 90's current best distance: 16864.42\n",
      "Iteration 91's current best distance: 16864.42\n",
      "Iteration 92's current best distance: 16864.42\n",
      "Iteration 93's current best distance: 16864.42\n",
      "Iteration 94's current best distance: 16864.42\n",
      "Iteration 95's current best distance: 16864.42\n",
      "Iteration 96's current best distance: 16864.42\n",
      "Iteration 97's current best distance: 16864.42\n",
      "Iteration 98's current best distance: 16864.42\n",
      "Iteration 99's current best distance: 16864.42\n",
      "Iteration 100's current best distance: 16864.42\n",
      "Optimal Distance = 7544.37\n",
      "Best Distance of Hill Climb = 16864.42\n",
      "Relative Percent Error = 123.54%"
     ]
    }
   ],
   "source": [
    "max_iter = 100\n",
    "best_route = None\n",
    "best_distance = float('inf')\n",
    "optimal_distance = optimal_norm(optimal_tour, location_data)\n",
    "\n",
    "for x in range(max_iter):\n",
    "    myRoute, dist = hill_climb(location_data, max_iter)\n",
    "    if dist < best_distance:\n",
    "        best_route = myRoute\n",
    "        best_distance = dist\n",
    "    print(\"Iteration {}'s current best distance:\".format(x+1), round(best_distance, 2))\n",
    "\n",
    "print(\"Optimal Distance =\", round(optimal_distance, 2))\n",
    "print(\"Best Distance of Hill Climb =\", round(best_distance, 2))\n",
    "print(\"Relative Percent Error =\", round(relativeError(optimal_distance, best_distance), 2), end=\"%\")"
   ]
  }
 ],
 "metadata": {
  "kernelspec": {
   "display_name": "ai",
   "language": "python",
   "name": "python3"
  },
  "language_info": {
   "codemirror_mode": {
    "name": "ipython",
    "version": 3
   },
   "file_extension": ".py",
   "mimetype": "text/x-python",
   "name": "python",
   "nbconvert_exporter": "python",
   "pygments_lexer": "ipython3",
   "version": "3.11.0"
  },
  "orig_nbformat": 4
 },
 "nbformat": 4,
 "nbformat_minor": 2
}
